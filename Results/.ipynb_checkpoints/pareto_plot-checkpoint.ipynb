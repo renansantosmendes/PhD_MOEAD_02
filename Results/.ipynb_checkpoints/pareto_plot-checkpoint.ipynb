{
 "cells": [
  {
   "cell_type": "code",
   "execution_count": 1,
   "metadata": {},
   "outputs": [],
   "source": [
    "import pandas as pd\n",
    "import numpy as np\n",
    "import matplotlib.pyplot as plt\n",
    "%matplotlib inline"
   ]
  },
  {
   "cell_type": "code",
   "execution_count": null,
   "metadata": {},
   "outputs": [],
   "source": [
    "def read_data(folder):\n",
    "    executions_number = 10\n",
    "    df = pd.read_csv(folder + 'hypervolume_execution_'+str(i)+'.csv',header=None)\n",
    "    df.columns = str(i).split()\n",
    "    df_list.append(df)\n",
    "\n",
    "    return pd.concat(df_list, axis=1)\n",
    "\n",
    "def plot_convergence(result):\n",
    "    plt.figure(figsize=(10,8))\n",
    "    result.mean(axis=1).plot()\n",
    "    plt.show()"
   ]
  }
 ],
 "metadata": {
  "kernelspec": {
   "display_name": "Python 3",
   "language": "python",
   "name": "python3"
  },
  "language_info": {
   "codemirror_mode": {
    "name": "ipython",
    "version": 3
   },
   "file_extension": ".py",
   "mimetype": "text/x-python",
   "name": "python",
   "nbconvert_exporter": "python",
   "pygments_lexer": "ipython3",
   "version": "3.4.3"
  }
 },
 "nbformat": 4,
 "nbformat_minor": 2
}
